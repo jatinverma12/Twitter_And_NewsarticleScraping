{
 "cells": [
  {
   "cell_type": "code",
   "execution_count": 17,
   "metadata": {},
   "outputs": [
    {
     "name": "stdout",
     "output_type": "stream",
     "text": [
      "{'id': 868007548586274816, 'screen_name': 'DBhaskarHindi', 'name': 'Dainik Bhaskar Hindi', 'created_at': 'Fri May 26 07:35:01 +0000 2017', 'url': 'https://t.co/RwNDPBwl2s', 'followers_count': 1242, 'friends_count': 216, 'statuses_count': 32877, 'favourites_count': 380, 'listed_count': 10, 'contributors_enabled': False, 'description': 'Welcome to the Official Twitter page of Dainik Bhaskar Jabalpur-Nagpur Group, Largest Hindi News Paper in the World.', 'protected': False, 'location': 'Bhopal, India', 'lang': None, 'expanded_url': 'https://www.bhaskarhindi.com', 'profile_image_url': 'http://pbs.twimg.com/profile_images/1106907148863209472/08gHy26w_normal.png'}\n",
      "{'id': 1066972567943053312, 'screen_name': 'HindustanTimes', 'name': 'Hindustan Times', 'created_at': 'Mon Nov 26 08:30:58 +0000 2018', 'url': 'https://t.co/WtJj2BvIpU', 'followers_count': 5190, 'friends_count': 65, 'statuses_count': 47083, 'favourites_count': 6, 'listed_count': 35, 'contributors_enabled': False, 'description': \"One of India's largest media companies. Latest news from around the world. Retweets are not endorsements.\", 'protected': False, 'location': 'New Delhi, India', 'lang': None, 'expanded_url': 'https://www.hindustantimes.com/', 'profile_image_url': 'http://pbs.twimg.com/profile_images/1067698311644106752/Dev8L_9C_normal.jpg'}\n",
      "{'id': 20751449, 'screen_name': 'the_hindu', 'name': 'The Hindu', 'created_at': 'Fri Feb 13 06:04:24 +0000 2009', 'url': 'http://t.co/s1JTQu1K46', 'followers_count': 5561967, 'friends_count': 198, 'statuses_count': 279792, 'favourites_count': 149, 'listed_count': 5844, 'contributors_enabled': False, 'description': \"News feeds from India's National Newspaper\", 'protected': False, 'location': 'Chennai, India', 'lang': None, 'expanded_url': 'http://www.thehindu.com/', 'profile_image_url': 'http://pbs.twimg.com/profile_images/1061900452311121920/jo7qrMTA_normal.jpg'}\n",
      "{'id': 1095339630751174659, 'screen_name': 'thedeccannews', 'name': 'The Deccan News', 'created_at': 'Tue Feb 12 15:11:33 +0000 2019', 'url': 'https://t.co/YXdcfe2oHQ', 'followers_count': 38, 'friends_count': 130, 'statuses_count': 2427, 'favourites_count': 15, 'listed_count': 0, 'contributors_enabled': False, 'description': '', 'protected': False, 'location': 'Bengaluru, India', 'lang': None, 'expanded_url': 'https://thedeccannews.com/', 'profile_image_url': 'http://pbs.twimg.com/profile_images/1100417462401622017/tGJaYGuj_normal.png'}\n",
      "{'id': 1555266841, 'screen_name': 'TheStatesmanLtd', 'name': 'The Statesman', 'created_at': 'Sat Jun 29 09:22:15 +0000 2013', 'url': 'https://t.co/DmNmxDTHHQ', 'followers_count': 10186, 'friends_count': 252, 'statuses_count': 78251, 'favourites_count': 320, 'listed_count': 403, 'contributors_enabled': False, 'description': \"The Statesman is one of India's oldest English newspapers founded in Kolkata in 1875.\", 'protected': False, 'location': 'New Delhi, India', 'lang': None, 'expanded_url': 'http://www.thestatesman.com', 'profile_image_url': 'http://pbs.twimg.com/profile_images/953259355440168961/6w8hpNU8_normal.jpg'}\n"
     ]
    }
   ],
   "source": [
    "import sys\n",
    "import string\n",
    "import json\n",
    "from twython import Twython\n",
    "\n",
    "#WE WILL USE THE VARIABLES DAY, MONTH, AND YEAR FOR OUR OUTPUT FILE NAME\n",
    "import datetime\n",
    "now = datetime.datetime.now()\n",
    "day=int(now.day)\n",
    "month=int(now.month)\n",
    "year=int(now.year)\n",
    "\n",
    "\n",
    "#FOR OAUTH AUTHENTICATION -- NEEDED TO ACCESS THE TWITTER API\n",
    "t = Twython(app_key=\"Lk3HuNUQ4TFDcW6S2AUDUygDD\", \n",
    "    app_secret=\"y1ppqCKWqcbfJI1tctu8tGxuL58Oy5GwD2gm2yQIIn2faCA41l\",\n",
    "    oauth_token=\"1168161739252232193-xup7bv5ex6gNF4AkBPdT3pH3Q8jfiK\" ,\n",
    "    oauth_token_secret=\"ig4S3bi38MGIxamSiyPResmUWWOhQ6X8dwfT7VTVwbmLq\")\n",
    "   \n",
    "# LIST OF TWITTER USER IDS\n",
    "ids = \"868007548586274816,1066972567943053312,20751449,1095339630751174659,1555266841\"\n",
    "\n",
    "\n",
    "users = t.lookup_user(user_id = ids)\n",
    "\n",
    "\n",
    "outfn = \"twitter_user_data_%i.%i.%i.txt\" % (now.month, now.day, now.year)\n",
    "\n",
    "#NAMES FOR HEADER ROW IN OUTPUT FILE\n",
    "fields = \"id screen_name name created_at url followers_count friends_count statuses_count \\\n",
    "    favourites_count listed_count \\\n",
    "    contributors_enabled description protected location lang expanded_url\".split()\n",
    "\n",
    "\n",
    "\n",
    "#THE VARIABLE 'USERS' CONTAINS INFORMATION OF THE 5 TWITTER USER IDS LISTED ABOVE\n",
    "#THIS BLOCK WILL LOOP OVER EACH OF THESE IDS, CREATE VARIABLES, AND OUTPUT TO FILE\n",
    "for entry in users:\n",
    "    #CREATE EMPTY DICTIONARY\n",
    "    r = {}\n",
    "    for f in fields:\n",
    "        r[f] = \"\"\n",
    "    #ASSIGN VALUE OF 'ID' FIELD IN JSON TO 'ID' FIELD IN OUR DICTIONARY\n",
    "    r['id'] = entry['id']\n",
    "    #SAME WITH 'SCREEN_NAME' HERE, AND FOR REST OF THE VARIABLES\n",
    "    r['screen_name'] = entry['screen_name']\n",
    "    r['name'] = entry['name']\n",
    "    r['created_at'] = entry['created_at']\n",
    "    r['url'] = entry['url']\n",
    "    r['followers_count'] = entry['followers_count']\n",
    "    r['friends_count'] = entry['friends_count']\n",
    "    r['statuses_count'] = entry['statuses_count']\n",
    "    r['favourites_count'] = entry['favourites_count']\n",
    "    r['listed_count'] = entry['listed_count']\n",
    "    r['contributors_enabled'] = entry['contributors_enabled']\n",
    "    r['description'] = entry['description']\n",
    "    r['protected'] = entry['protected']\n",
    "    r['location'] = entry['location']\n",
    "    r['lang'] = entry['lang']\n",
    "    r['profile_image_url'] = entry['profile_image_url']\n",
    "    #NOT EVERY ID WILL HAVE A 'URL' KEY, SO CHECK FOR ITS EXISTENCE WITH IF CLAUSE\n",
    "    if 'url' in entry['entities']:\n",
    "        r['expanded_url'] = entry['entities']['url']['urls'][0]['expanded_url']\n",
    "    else:\n",
    "        r['expanded_url'] = ''\n",
    "    print(r)\n",
    "    #CREATE EMPTY LIST\n",
    "    lst = []\n",
    "    #ADD DATA FOR EACH VARIABLE\n",
    "    for f in fields:\n",
    "        lst.append(str(r[f]).replace('\"', '\\\\\"'))\n",
    "        \n",
    "    with open('newswebdata.json', 'w') as a:\n",
    "        json.dump(lst, a,indent=2)  \n",
    "   "
   ]
  },
  {
   "cell_type": "code",
   "execution_count": null,
   "metadata": {},
   "outputs": [],
   "source": []
  }
 ],
 "metadata": {
  "kernelspec": {
   "display_name": "Python 2",
   "language": "python",
   "name": "python2"
  },
  "language_info": {
   "codemirror_mode": {
    "name": "ipython",
    "version": 3
   },
   "file_extension": ".py",
   "mimetype": "text/x-python",
   "name": "python",
   "nbconvert_exporter": "python",
   "pygments_lexer": "ipython3",
   "version": "3.7.3"
  }
 },
 "nbformat": 4,
 "nbformat_minor": 2
}
